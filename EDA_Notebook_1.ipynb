{
  "cells": [],
  "metadata": {},
  "nbformat": 4,
  "nbformat_minor": 4
}
import pandas as pd

# Load the datasets
cab_data = pd.read_csv('Cab_Data.csv')
customer_data = pd.read_csv('Customer_ID.csv')
transaction_data = pd.read_csv('Transaction_ID.csv')
city_data = pd.read_csv('City.csv')

# Display the first few rows of each dataset to confirm they are loaded correctly
print(cab_data.head())
print(customer_data.head())
print(transaction_data.head())
print(city_data.head())
